{
  "nbformat": 4,
  "nbformat_minor": 0,
  "metadata": {
    "colab": {
      "provenance": []
    },
    "kernelspec": {
      "name": "python3",
      "display_name": "Python 3"
    },
    "language_info": {
      "name": "python"
    }
  },
  "cells": [
    {
      "cell_type": "code",
      "execution_count": null,
      "metadata": {
        "id": "KWno5jHEvMTw"
      },
      "outputs": [],
      "source": []
    },
    {
      "cell_type": "markdown",
      "source": [
        "<p align=\"center\"><b><font color=\"black\">Визитная карточка</front></b></p>\n"
      ],
      "metadata": {
        "id": "2hWQIuDyvwFB"
      }
    },
    {
      "cell_type": "markdown",
      "source": [
        "<h1>Фиона Гарольдовна Ослова\n",
        "\n"
      ],
      "metadata": {
        "id": "mnEGMRFAxdi0"
      }
    },
    {
      "cell_type": "markdown",
      "source": [
        "#### Информация о сотруднике\n",
        "\n"
      ],
      "metadata": {
        "id": "kNGL4zorxrBa"
      }
    },
    {
      "cell_type": "markdown",
      "source": [
        "<ul>\n",
        "<li>Пол: Ж</li>\n",
        "<li>Дата рождения: 01.01.1970</li>\n",
        "<li>Должность: Генеральный директор ООО \"ШРЕКС\"</li>\n",
        "<li>Образование: МГУ, специальность: востоковед</li>\n",
        "<li>Место жительства: Королевство, Московская область</li>\n",
        "</ul>"
      ],
      "metadata": {
        "id": "GawWCfuUx7yL"
      }
    },
    {
      "cell_type": "markdown",
      "source": [
        "Личная страница: https://ru.wikipedia.org/wiki/%D0%9F%D1%80%D0%B8%D0%BD%D1%86%D0%B5%D1%81%D1%81%D0%B0_%D0%A4%D0%B8%D0%BE%D0%BD%D0%B0\n"
      ],
      "metadata": {
        "id": "jU6hu1BU7yz2"
      }
    },
    {
      "cell_type": "markdown",
      "source": [
        "![image](https://encrypted-tbn0.gstatic.com/images?q=tbn:ANd9GcSJeAI4ic1fSSkxFAzCEIzCWAX5eAr-a0wzXw&usqp=CAU)\n"
      ],
      "metadata": {
        "id": "pVvnC4wpy1Bk"
      }
    },
    {
      "cell_type": "markdown",
      "source": [
        "$$y(x) = \\frac{\\sum_{i=1}^{n} \\sum_{j=2}^{m} 9^2_i x_j}{\\sqrt{\\frac{9}{W^2}}} $$\n"
      ],
      "metadata": {
        "id": "wMuQRKHJ8kqC"
      }
    }
  ]
}